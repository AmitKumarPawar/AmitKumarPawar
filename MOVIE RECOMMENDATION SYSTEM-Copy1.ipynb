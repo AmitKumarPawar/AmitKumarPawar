{
 "cells": [
  {
   "cell_type": "markdown",
   "id": "bb4d269e",
   "metadata": {},
   "source": [
    "Step 1: Import libraries"
   ]
  },
  {
   "cell_type": "code",
   "execution_count": 1,
   "id": "02f4bd4f",
   "metadata": {},
   "outputs": [],
   "source": [
    "import re\n",
    "from difflib import SequenceMatcher\n",
    "\n",
    "import numpy as np\n",
    "import pandas as pd\n",
    "import matplotlib.pyplot as plt\n",
    "\n",
    "from scipy.sparse import csr_matrix\n",
    "from sklearn.neighbors import NearestNeighbors"
   ]
  },
  {
   "cell_type": "markdown",
   "id": "29357a08",
   "metadata": {},
   "source": [
    "Step 2: Import data"
   ]
  },
  {
   "cell_type": "markdown",
   "id": "5476b286",
   "metadata": {},
   "source": [
    "Import movies.csv and drop the genres column"
   ]
  },
  {
   "cell_type": "code",
   "execution_count": 2,
   "id": "0d5147c0",
   "metadata": {},
   "outputs": [],
   "source": [
    "movies = pd.read_csv('data/movies.csv')\n",
    "movies = movies.drop(['genres'], axis = 'columns')"
   ]
  },
  {
   "cell_type": "markdown",
   "id": "3f9b98f2",
   "metadata": {},
   "source": [
    "Import ratings.csv and drop the timestamp column"
   ]
  },
  {
   "cell_type": "code",
   "execution_count": 3,
   "id": "aed86381",
   "metadata": {},
   "outputs": [],
   "source": [
    "ratings = pd.read_csv('data/ratings.csv')\n",
    "ratings = ratings.drop(['timestamp'], axis = 'columns')"
   ]
  },
  {
   "cell_type": "markdown",
   "id": "5f60cff5",
   "metadata": {},
   "source": [
    "View the contents of the dataset"
   ]
  },
  {
   "cell_type": "code",
   "execution_count": 4,
   "id": "66347569",
   "metadata": {},
   "outputs": [
    {
     "data": {
      "text/html": [
       "<div>\n",
       "<style scoped>\n",
       "    .dataframe tbody tr th:only-of-type {\n",
       "        vertical-align: middle;\n",
       "    }\n",
       "\n",
       "    .dataframe tbody tr th {\n",
       "        vertical-align: top;\n",
       "    }\n",
       "\n",
       "    .dataframe thead th {\n",
       "        text-align: right;\n",
       "    }\n",
       "</style>\n",
       "<table border=\"1\" class=\"dataframe\">\n",
       "  <thead>\n",
       "    <tr style=\"text-align: right;\">\n",
       "      <th></th>\n",
       "      <th>movieId</th>\n",
       "      <th>title</th>\n",
       "    </tr>\n",
       "  </thead>\n",
       "  <tbody>\n",
       "    <tr>\n",
       "      <th>0</th>\n",
       "      <td>1</td>\n",
       "      <td>Toy Story (1995)</td>\n",
       "    </tr>\n",
       "    <tr>\n",
       "      <th>1</th>\n",
       "      <td>2</td>\n",
       "      <td>Jumanji (1995)</td>\n",
       "    </tr>\n",
       "    <tr>\n",
       "      <th>2</th>\n",
       "      <td>3</td>\n",
       "      <td>Grumpier Old Men (1995)</td>\n",
       "    </tr>\n",
       "    <tr>\n",
       "      <th>3</th>\n",
       "      <td>4</td>\n",
       "      <td>Waiting to Exhale (1995)</td>\n",
       "    </tr>\n",
       "    <tr>\n",
       "      <th>4</th>\n",
       "      <td>5</td>\n",
       "      <td>Father of the Bride Part II (1995)</td>\n",
       "    </tr>\n",
       "  </tbody>\n",
       "</table>\n",
       "</div>"
      ],
      "text/plain": [
       "   movieId                               title\n",
       "0        1                    Toy Story (1995)\n",
       "1        2                      Jumanji (1995)\n",
       "2        3             Grumpier Old Men (1995)\n",
       "3        4            Waiting to Exhale (1995)\n",
       "4        5  Father of the Bride Part II (1995)"
      ]
     },
     "execution_count": 4,
     "metadata": {},
     "output_type": "execute_result"
    }
   ],
   "source": [
    "movies.head()"
   ]
  },
  {
   "cell_type": "code",
   "execution_count": 5,
   "id": "0742ac07",
   "metadata": {},
   "outputs": [
    {
     "data": {
      "text/html": [
       "<div>\n",
       "<style scoped>\n",
       "    .dataframe tbody tr th:only-of-type {\n",
       "        vertical-align: middle;\n",
       "    }\n",
       "\n",
       "    .dataframe tbody tr th {\n",
       "        vertical-align: top;\n",
       "    }\n",
       "\n",
       "    .dataframe thead th {\n",
       "        text-align: right;\n",
       "    }\n",
       "</style>\n",
       "<table border=\"1\" class=\"dataframe\">\n",
       "  <thead>\n",
       "    <tr style=\"text-align: right;\">\n",
       "      <th></th>\n",
       "      <th>userId</th>\n",
       "      <th>movieId</th>\n",
       "      <th>rating</th>\n",
       "    </tr>\n",
       "  </thead>\n",
       "  <tbody>\n",
       "    <tr>\n",
       "      <th>0</th>\n",
       "      <td>1</td>\n",
       "      <td>1</td>\n",
       "      <td>4.0</td>\n",
       "    </tr>\n",
       "    <tr>\n",
       "      <th>1</th>\n",
       "      <td>1</td>\n",
       "      <td>3</td>\n",
       "      <td>4.0</td>\n",
       "    </tr>\n",
       "    <tr>\n",
       "      <th>2</th>\n",
       "      <td>1</td>\n",
       "      <td>6</td>\n",
       "      <td>4.0</td>\n",
       "    </tr>\n",
       "    <tr>\n",
       "      <th>3</th>\n",
       "      <td>1</td>\n",
       "      <td>47</td>\n",
       "      <td>5.0</td>\n",
       "    </tr>\n",
       "    <tr>\n",
       "      <th>4</th>\n",
       "      <td>1</td>\n",
       "      <td>50</td>\n",
       "      <td>5.0</td>\n",
       "    </tr>\n",
       "  </tbody>\n",
       "</table>\n",
       "</div>"
      ],
      "text/plain": [
       "   userId  movieId  rating\n",
       "0       1        1     4.0\n",
       "1       1        3     4.0\n",
       "2       1        6     4.0\n",
       "3       1       47     5.0\n",
       "4       1       50     5.0"
      ]
     },
     "execution_count": 5,
     "metadata": {},
     "output_type": "execute_result"
    }
   ],
   "source": [
    "ratings.head()"
   ]
  },
  {
   "cell_type": "markdown",
   "id": "ca0ef7e6",
   "metadata": {},
   "source": [
    "View how the movies are rated"
   ]
  },
  {
   "cell_type": "code",
   "execution_count": 6,
   "id": "1df73a38",
   "metadata": {},
   "outputs": [
    {
     "data": {
      "text/plain": [
       "array([0.5, 1. , 1.5, 2. , 2.5, 3. , 3.5, 4. , 4.5, 5. ])"
      ]
     },
     "execution_count": 6,
     "metadata": {},
     "output_type": "execute_result"
    }
   ],
   "source": [
    "ratings['rating'].sort_values().unique()"
   ]
  },
  {
   "cell_type": "markdown",
   "id": "2addb300",
   "metadata": {},
   "source": [
    "Number of movies"
   ]
  },
  {
   "cell_type": "code",
   "execution_count": 7,
   "id": "80900287",
   "metadata": {},
   "outputs": [
    {
     "data": {
      "text/plain": [
       "9742"
      ]
     },
     "execution_count": 7,
     "metadata": {},
     "output_type": "execute_result"
    }
   ],
   "source": [
    "movies.values.shape[0]"
   ]
  },
  {
   "cell_type": "markdown",
   "id": "a187c477",
   "metadata": {},
   "source": [
    "Total number of ratings"
   ]
  },
  {
   "cell_type": "code",
   "execution_count": 8,
   "id": "69e39cd6",
   "metadata": {},
   "outputs": [
    {
     "data": {
      "text/plain": [
       "100836"
      ]
     },
     "execution_count": 8,
     "metadata": {},
     "output_type": "execute_result"
    }
   ],
   "source": [
    "ratings.values.shape[0]"
   ]
  },
  {
   "cell_type": "markdown",
   "id": "49163173",
   "metadata": {},
   "source": [
    "Number of unique users"
   ]
  },
  {
   "cell_type": "code",
   "execution_count": 9,
   "id": "ca06679e",
   "metadata": {},
   "outputs": [
    {
     "data": {
      "text/plain": [
       "610"
      ]
     },
     "execution_count": 9,
     "metadata": {},
     "output_type": "execute_result"
    }
   ],
   "source": [
    "ratings['userId'].nunique()"
   ]
  },
  {
   "cell_type": "markdown",
   "id": "9c457030",
   "metadata": {},
   "source": [
    "Step 3: Data Preprocessing and visualization"
   ]
  },
  {
   "cell_type": "markdown",
   "id": "48ff44ee",
   "metadata": {},
   "source": [
    "Set thresholds for popular movies and active users"
   ]
  },
  {
   "cell_type": "code",
   "execution_count": 10,
   "id": "c40ce91f",
   "metadata": {},
   "outputs": [],
   "source": [
    "popular_movies_thresh = 25\n",
    "active_users_thresh = 100"
   ]
  },
  {
   "cell_type": "markdown",
   "id": "372ac2fb",
   "metadata": {},
   "source": [
    "Visualize the long-tail property for popular movies"
   ]
  },
  {
   "cell_type": "code",
   "execution_count": 11,
   "id": "59ccf174",
   "metadata": {},
   "outputs": [
    {
     "data": {
      "text/plain": [
       "<matplotlib.collections.PolyCollection at 0x1c64fc3fe80>"
      ]
     },
     "execution_count": 11,
     "metadata": {},
     "output_type": "execute_result"
    },
    {
     "data": {
      "image/png": "[encoded data removed]",
      "text/plain": [
       "<Figure size 1080x360 with 1 Axes>"
      ]
     },
     "metadata": {
      "needs_background": "light"
     },
     "output_type": "display_data"
    }
   ],
   "source": [
    "movies_count = pd.DataFrame(ratings.groupby('movieId').size().sort_values(ascending = False), columns = ['count'])\n",
    "divider = len(movies_count.query('count >= @popular_movies_thresh'))\n",
    "fig, (ax) = plt.subplots(1, 1, figsize = (15, 5))\n",
    "\n",
    "plt.plot(np.arange(len(movies_count)), movies_count['count'], color = 'red')\n",
    "plt.xlabel('Movies')\n",
    "plt.ylabel('Number of ratings')\n",
    "\n",
    "ax.fill_between(np.arange(0, divider), 0, movies_count['count'][:divider], color = 'orange', alpha = 0.5)\n",
    "ax.fill_between(np.arange(divider, len(movies_count)), 0, movies_count['count'][divider:], color = 'blue', alpha = 0.5)"
   ]
  },
  {
   "cell_type": "markdown",
   "id": "b737c34a",
   "metadata": {},
   "source": [
    "Remove unpopular movies from the data"
   ]
  },
  {
   "cell_type": "code",
   "execution_count": 12,
   "id": "25591b09",
   "metadata": {},
   "outputs": [],
   "source": [
    "popular_movies_indices = movies_count.query('count >= @popular_movies_thresh').index\n",
    "popular_ratings = ratings[ratings['movieId'].isin(popular_movies_indices)]"
   ]
  },
  {
   "cell_type": "markdown",
   "id": "e9ff7dd9",
   "metadata": {},
   "source": [
    "Number of rows in original ratings data"
   ]
  },
  {
   "cell_type": "code",
   "execution_count": 13,
   "id": "eaee8ef6",
   "metadata": {},
   "outputs": [
    {
     "data": {
      "text/plain": [
       "100836"
      ]
     },
     "execution_count": 13,
     "metadata": {},
     "output_type": "execute_result"
    }
   ],
   "source": [
    "ratings.shape[0]"
   ]
  },
  {
   "cell_type": "markdown",
   "id": "917020da",
   "metadata": {},
   "source": [
    "Number of rows in ratings data after dropping unpopular movies"
   ]
  },
  {
   "cell_type": "code",
   "execution_count": 14,
   "id": "9524dd6b",
   "metadata": {},
   "outputs": [
    {
     "data": {
      "text/plain": [
       "62518"
      ]
     },
     "execution_count": 14,
     "metadata": {},
     "output_type": "execute_result"
    }
   ],
   "source": [
    "popular_ratings.shape[0]"
   ]
  },
  {
   "cell_type": "markdown",
   "id": "0b4de674",
   "metadata": {},
   "source": [
    "Number of movies before dropping unpopular movies"
   ]
  },
  {
   "cell_type": "code",
   "execution_count": 15,
   "id": "4b89a75d",
   "metadata": {},
   "outputs": [
    {
     "data": {
      "text/plain": [
       "9724"
      ]
     },
     "execution_count": 15,
     "metadata": {},
     "output_type": "execute_result"
    }
   ],
   "source": [
    "ratings.groupby('movieId').count().shape[0]"
   ]
  },
  {
   "cell_type": "markdown",
   "id": "b28e7501",
   "metadata": {},
   "source": [
    "Number of movies after dropping unpopular movies"
   ]
  },
  {
   "cell_type": "code",
   "execution_count": 16,
   "id": "1c4899fc",
   "metadata": {},
   "outputs": [
    {
     "data": {
      "text/plain": [
       "1050"
      ]
     },
     "execution_count": 16,
     "metadata": {},
     "output_type": "execute_result"
    }
   ],
   "source": [
    "popular_ratings.groupby('movieId').count().shape[0]"
   ]
  },
  {
   "cell_type": "markdown",
   "id": "0e5bac46",
   "metadata": {},
   "source": [
    "Visualize the long-tail property for active users"
   ]
  },
  {
   "cell_type": "code",
   "execution_count": 17,
   "id": "6e42f4c2",
   "metadata": {},
   "outputs": [
    {
     "data": {
      "text/plain": [
       "<matplotlib.collections.PolyCollection at 0x1c6505f81f0>"
      ]
     },
     "execution_count": 17,
     "metadata": {},
     "output_type": "execute_result"
    },
    {
     "data": {
      "image/png": "[encoded data removed]",
      "text/plain": [
       "<Figure size 1080x360 with 1 Axes>"
      ]
     },
     "metadata": {
      "needs_background": "light"
     },
     "output_type": "display_data"
    }
   ],
   "source": [
    "users_count = pd.DataFrame(popular_ratings.groupby('userId').size().sort_values(ascending = False), columns = ['count'])\n",
    "divider = len(users_count.query('count >= @active_users_thresh'))\n",
    "fig, (ax) = plt.subplots(1, 1, figsize = (15, 5))\n",
    "\n",
    "plt.plot(np.arange(len(users_count)), users_count['count'], color = 'r')\n",
    "plt.xlabel('Users')\n",
    "plt.ylabel('Number of ratings given')\n",
    "\n",
    "ax.fill_between(np.arange(0, divider), 0, users_count['count'][:divider], color = 'orange', alpha = 0.5)\n",
    "ax.fill_between(np.arange(divider, len(users_count)), 0, users_count['count'][divider:], color = 'blue', alpha = 0.5)"
   ]
  },
  {
   "cell_type": "markdown",
   "id": "37118f32",
   "metadata": {},
   "source": [
    "Remove non-active users from the data"
   ]
  },
  {
   "cell_type": "code",
   "execution_count": 18,
   "id": "f9c11b81",
   "metadata": {},
   "outputs": [],
   "source": [
    "active_users_indices = users_count.query('count >= @active_users_thresh').index\n",
    "active_users_ratings = popular_ratings[popular_ratings['userId'].isin(active_users_indices)]"
   ]
  },
  {
   "cell_type": "markdown",
   "id": "bd5629cc",
   "metadata": {},
   "source": [
    "Number of rows in ratings data after removing unpopular movies"
   ]
  },
  {
   "cell_type": "code",
   "execution_count": 19,
   "id": "4591311a",
   "metadata": {},
   "outputs": [
    {
     "data": {
      "text/plain": [
       "62518"
      ]
     },
     "execution_count": 19,
     "metadata": {},
     "output_type": "execute_result"
    }
   ],
   "source": [
    "popular_ratings.shape[0]"
   ]
  },
  {
   "cell_type": "markdown",
   "id": "98f6d7e0",
   "metadata": {},
   "source": [
    "Number of rows in ratings data after removing unpopular movies and inactive users"
   ]
  },
  {
   "cell_type": "code",
   "execution_count": 20,
   "id": "f855d782",
   "metadata": {},
   "outputs": [
    {
     "data": {
      "text/plain": [
       "44588"
      ]
     },
     "execution_count": 20,
     "metadata": {},
     "output_type": "execute_result"
    }
   ],
   "source": [
    "active_users_ratings.shape[0]"
   ]
  },
  {
   "cell_type": "markdown",
   "id": "31bd3cf1",
   "metadata": {},
   "source": [
    "Number of users before removing inactive users"
   ]
  },
  {
   "cell_type": "code",
   "execution_count": 21,
   "id": "00cc9140",
   "metadata": {},
   "outputs": [
    {
     "data": {
      "text/plain": [
       "610"
      ]
     },
     "execution_count": 21,
     "metadata": {},
     "output_type": "execute_result"
    }
   ],
   "source": [
    "popular_ratings.groupby('userId').count().shape[0]"
   ]
  },
  {
   "cell_type": "markdown",
   "id": "3d57e898",
   "metadata": {},
   "source": [
    "Number of users after removing unpopular movies and inactive users"
   ]
  },
  {
   "cell_type": "code",
   "execution_count": 22,
   "id": "0e3204b4",
   "metadata": {},
   "outputs": [
    {
     "data": {
      "text/plain": [
       "188"
      ]
     },
     "execution_count": 22,
     "metadata": {},
     "output_type": "execute_result"
    }
   ],
   "source": [
    "active_users_ratings.groupby('userId').count().shape[0]"
   ]
  },
  {
   "cell_type": "markdown",
   "id": "9fca4d92",
   "metadata": {},
   "source": [
    "Step 4: Create pivot table and sparse matrix"
   ]
  },
  {
   "cell_type": "code",
   "execution_count": 23,
   "id": "298c3f32",
   "metadata": {},
   "outputs": [],
   "source": [
    "pivot_table = active_users_ratings.pivot(index = 'movieId', columns = 'userId', values = 'rating').fillna(0)"
   ]
  },
  {
   "cell_type": "markdown",
   "id": "5ad1dc76",
   "metadata": {},
   "source": [
    "Number of movies in the pivot table"
   ]
  },
  {
   "cell_type": "code",
   "execution_count": 24,
   "id": "fd34d4b1",
   "metadata": {},
   "outputs": [
    {
     "data": {
      "text/plain": [
       "1050"
      ]
     },
     "execution_count": 24,
     "metadata": {},
     "output_type": "execute_result"
    }
   ],
   "source": [
    "pivot_table.index.shape[0]"
   ]
  },
  {
   "cell_type": "markdown",
   "id": "219c5755",
   "metadata": {},
   "source": [
    "Number of user in the pivot table"
   ]
  },
  {
   "cell_type": "code",
   "execution_count": 25,
   "id": "7d44c0fe",
   "metadata": {},
   "outputs": [
    {
     "data": {
      "text/plain": [
       "188"
      ]
     },
     "execution_count": 25,
     "metadata": {},
     "output_type": "execute_result"
    }
   ],
   "source": [
    "pivot_table.columns.shape[0]"
   ]
  },
  {
   "cell_type": "code",
   "execution_count": 26,
   "id": "289ae17b",
   "metadata": {},
   "outputs": [
    {
     "data": {
      "text/html": [
       "<div>\n",
       "<style scoped>\n",
       "    .dataframe tbody tr th:only-of-type {\n",
       "        vertical-align: middle;\n",
       "    }\n",
       "\n",
       "    .dataframe tbody tr th {\n",
       "        vertical-align: top;\n",
       "    }\n",
       "\n",
       "    .dataframe thead th {\n",
       "        text-align: right;\n",
       "    }\n",
       "</style>\n",
       "<table border=\"1\" class=\"dataframe\">\n",
       "  <thead>\n",
       "    <tr style=\"text-align: right;\">\n",
       "      <th>userId</th>\n",
       "      <th>1</th>\n",
       "      <th>4</th>\n",
       "      <th>6</th>\n",
       "      <th>7</th>\n",
       "      <th>15</th>\n",
       "      <th>18</th>\n",
       "      <th>19</th>\n",
       "      <th>20</th>\n",
       "      <th>21</th>\n",
       "      <th>22</th>\n",
       "      <th>...</th>\n",
       "      <th>597</th>\n",
       "      <th>599</th>\n",
       "      <th>600</th>\n",
       "      <th>602</th>\n",
       "      <th>603</th>\n",
       "      <th>605</th>\n",
       "      <th>606</th>\n",
       "      <th>607</th>\n",
       "      <th>608</th>\n",
       "      <th>610</th>\n",
       "    </tr>\n",
       "    <tr>\n",
       "      <th>movieId</th>\n",
       "      <th></th>\n",
       "      <th></th>\n",
       "      <th></th>\n",
       "      <th></th>\n",
       "      <th></th>\n",
       "      <th></th>\n",
       "      <th></th>\n",
       "      <th></th>\n",
       "      <th></th>\n",
       "      <th></th>\n",
       "      <th></th>\n",
       "      <th></th>\n",
       "      <th></th>\n",
       "      <th></th>\n",
       "      <th></th>\n",
       "      <th></th>\n",
       "      <th></th>\n",
       "      <th></th>\n",
       "      <th></th>\n",
       "      <th></th>\n",
       "      <th></th>\n",
       "    </tr>\n",
       "  </thead>\n",
       "  <tbody>\n",
       "    <tr>\n",
       "      <th>1</th>\n",
       "      <td>4.0</td>\n",
       "      <td>0.0</td>\n",
       "      <td>0.0</td>\n",
       "      <td>4.5</td>\n",
       "      <td>2.5</td>\n",
       "      <td>3.5</td>\n",
       "      <td>4.0</td>\n",
       "      <td>0.0</td>\n",
       "      <td>3.5</td>\n",
       "      <td>0.0</td>\n",
       "      <td>...</td>\n",
       "      <td>4.0</td>\n",
       "      <td>3.0</td>\n",
       "      <td>2.5</td>\n",
       "      <td>0.0</td>\n",
       "      <td>4.0</td>\n",
       "      <td>4.0</td>\n",
       "      <td>2.5</td>\n",
       "      <td>4.0</td>\n",
       "      <td>2.5</td>\n",
       "      <td>5.0</td>\n",
       "    </tr>\n",
       "    <tr>\n",
       "      <th>2</th>\n",
       "      <td>0.0</td>\n",
       "      <td>0.0</td>\n",
       "      <td>4.0</td>\n",
       "      <td>0.0</td>\n",
       "      <td>0.0</td>\n",
       "      <td>3.0</td>\n",
       "      <td>3.0</td>\n",
       "      <td>3.0</td>\n",
       "      <td>3.5</td>\n",
       "      <td>0.0</td>\n",
       "      <td>...</td>\n",
       "      <td>0.0</td>\n",
       "      <td>2.5</td>\n",
       "      <td>4.0</td>\n",
       "      <td>4.0</td>\n",
       "      <td>0.0</td>\n",
       "      <td>3.5</td>\n",
       "      <td>0.0</td>\n",
       "      <td>0.0</td>\n",
       "      <td>2.0</td>\n",
       "      <td>0.0</td>\n",
       "    </tr>\n",
       "    <tr>\n",
       "      <th>3</th>\n",
       "      <td>4.0</td>\n",
       "      <td>0.0</td>\n",
       "      <td>5.0</td>\n",
       "      <td>0.0</td>\n",
       "      <td>0.0</td>\n",
       "      <td>0.0</td>\n",
       "      <td>3.0</td>\n",
       "      <td>0.0</td>\n",
       "      <td>0.0</td>\n",
       "      <td>0.0</td>\n",
       "      <td>...</td>\n",
       "      <td>0.0</td>\n",
       "      <td>1.5</td>\n",
       "      <td>0.0</td>\n",
       "      <td>0.0</td>\n",
       "      <td>0.0</td>\n",
       "      <td>0.0</td>\n",
       "      <td>0.0</td>\n",
       "      <td>0.0</td>\n",
       "      <td>2.0</td>\n",
       "      <td>0.0</td>\n",
       "    </tr>\n",
       "    <tr>\n",
       "      <th>5</th>\n",
       "      <td>0.0</td>\n",
       "      <td>0.0</td>\n",
       "      <td>5.0</td>\n",
       "      <td>0.0</td>\n",
       "      <td>0.0</td>\n",
       "      <td>0.0</td>\n",
       "      <td>0.0</td>\n",
       "      <td>0.0</td>\n",
       "      <td>0.0</td>\n",
       "      <td>0.0</td>\n",
       "      <td>...</td>\n",
       "      <td>0.0</td>\n",
       "      <td>0.0</td>\n",
       "      <td>2.5</td>\n",
       "      <td>0.0</td>\n",
       "      <td>0.0</td>\n",
       "      <td>0.0</td>\n",
       "      <td>0.0</td>\n",
       "      <td>0.0</td>\n",
       "      <td>0.0</td>\n",
       "      <td>0.0</td>\n",
       "    </tr>\n",
       "    <tr>\n",
       "      <th>6</th>\n",
       "      <td>4.0</td>\n",
       "      <td>0.0</td>\n",
       "      <td>4.0</td>\n",
       "      <td>0.0</td>\n",
       "      <td>0.0</td>\n",
       "      <td>4.0</td>\n",
       "      <td>0.0</td>\n",
       "      <td>0.0</td>\n",
       "      <td>0.0</td>\n",
       "      <td>0.0</td>\n",
       "      <td>...</td>\n",
       "      <td>3.0</td>\n",
       "      <td>4.5</td>\n",
       "      <td>0.0</td>\n",
       "      <td>3.0</td>\n",
       "      <td>4.0</td>\n",
       "      <td>0.0</td>\n",
       "      <td>0.0</td>\n",
       "      <td>0.0</td>\n",
       "      <td>0.0</td>\n",
       "      <td>5.0</td>\n",
       "    </tr>\n",
       "  </tbody>\n",
       "</table>\n",
       "<p>5 rows × 188 columns</p>\n",
       "</div>"
      ],
      "text/plain": [
       "userId   1    4    6    7    15   18   19   20   21   22   ...  597  599  600  \\\n",
       "movieId                                                    ...                  \n",
       "1        4.0  0.0  0.0  4.5  2.5  3.5  4.0  0.0  3.5  0.0  ...  4.0  3.0  2.5   \n",
       "2        0.0  0.0  4.0  0.0  0.0  3.0  3.0  3.0  3.5  0.0  ...  0.0  2.5  4.0   \n",
       "3        4.0  0.0  5.0  0.0  0.0  0.0  3.0  0.0  0.0  0.0  ...  0.0  1.5  0.0   \n",
       "5        0.0  0.0  5.0  0.0  0.0  0.0  0.0  0.0  0.0  0.0  ...  0.0  0.0  2.5   \n",
       "6        4.0  0.0  4.0  0.0  0.0  4.0  0.0  0.0  0.0  0.0  ...  3.0  4.5  0.0   \n",
       "\n",
       "userId   602  603  605  606  607  608  610  \n",
       "movieId                                     \n",
       "1        0.0  4.0  4.0  2.5  4.0  2.5  5.0  \n",
       "2        4.0  0.0  3.5  0.0  0.0  2.0  0.0  \n",
       "3        0.0  0.0  0.0  0.0  0.0  2.0  0.0  \n",
       "5        0.0  0.0  0.0  0.0  0.0  0.0  0.0  \n",
       "6        3.0  4.0  0.0  0.0  0.0  0.0  5.0  \n",
       "\n",
       "[5 rows x 188 columns]"
      ]
     },
     "execution_count": 26,
     "metadata": {},
     "output_type": "execute_result"
    }
   ],
   "source": [
    "pivot_table.head()"
   ]
  },
  {
   "cell_type": "markdown",
   "id": "00689ac3",
   "metadata": {},
   "source": [
    "Create a sparse matrix from the pivot table"
   ]
  },
  {
   "cell_type": "code",
   "execution_count": 27,
   "id": "09b44726",
   "metadata": {},
   "outputs": [],
   "source": [
    "sparse_matrix = csr_matrix(pivot_table.values)"
   ]
  },
  {
   "cell_type": "markdown",
   "id": "53355337",
   "metadata": {},
   "source": [
    "Step 5: Map data"
   ]
  },
  {
   "cell_type": "code",
   "execution_count": 28,
   "id": "1c8815d2",
   "metadata": {},
   "outputs": [],
   "source": [
    "pivot_table_movies = movies.set_index('movieId').loc[pivot_table.index]['title'].values\n",
    "title_to_id = {movie: i for i, movie in enumerate(pivot_table_movies)}"
   ]
  },
  {
   "cell_type": "code",
   "execution_count": 29,
   "id": "6e63689b",
   "metadata": {},
   "outputs": [],
   "source": [
    "id_to_title = {v: k for k, v in title_to_id.items()}"
   ]
  },
  {
   "cell_type": "markdown",
   "id": "1bdef8ea",
   "metadata": {},
   "source": [
    "Step 6: Train the model"
   ]
  },
  {
   "cell_type": "code",
   "execution_count": 30,
   "id": "5631141b",
   "metadata": {},
   "outputs": [
    {
     "data": {
      "text/plain": [
       "NearestNeighbors(algorithm='brute', metric='cosine')"
      ]
     },
     "execution_count": 30,
     "metadata": {},
     "output_type": "execute_result"
    }
   ],
   "source": [
    "model_knn = NearestNeighbors(metric = 'cosine', algorithm = 'brute')\n",
    "model_knn.fit(sparse_matrix)"
   ]
  },
  {
   "cell_type": "markdown",
   "id": "a3410ce0",
   "metadata": {},
   "source": [
    "Get recommendations of movies"
   ]
  },
  {
   "cell_type": "code",
   "execution_count": 31,
   "id": "589dbdf8",
   "metadata": {},
   "outputs": [],
   "source": [
    "def find_matches(title_to_id, movie_title):\n",
    "    movie_ids = np.array(list(title_to_id.values())).astype(int)\n",
    "    titles = np.array(list(title_to_id.keys()))\n",
    "    ratios = list()\n",
    "    for title, movie_id in title_to_id.items():\n",
    "        ratio = SequenceMatcher(None, movie_title, title, autojunk = False).ratio()\n",
    "        ratios.append(ratio)\n",
    "    titles, ids = titles[np.argsort(ratios)][-10:], movie_ids[np.argsort(ratios)][-10:]\n",
    "    return list(reversed(list(zip(titles, ids))))"
   ]
  },
  {
   "cell_type": "markdown",
   "id": "b79d06c1",
   "metadata": {},
   "source": [
    "Given a title of a movie, display a Dropdown to display the options and to select the title"
   ]
  },
  {
   "cell_type": "code",
   "execution_count": 32,
   "id": "1aa046b7",
   "metadata": {},
   "outputs": [
    {
     "data": {
      "application/vnd.jupyter.widget-view+json": {
       "model_id": "7e9632e8a9de493fb6b59ed9471b4fb5",
       "version_major": 2,
       "version_minor": 0
      },
      "text/plain": [
       "Dropdown(options=(('Batman (1989)', 155), ('Batman Begins (2005)', 860), ('Watchmen (2009)', 941), ('Batman & …"
      ]
     },
     "metadata": {},
     "output_type": "display_data"
    }
   ],
   "source": [
    "title = 'batman'\n",
    "options = find_matches(title_to_id, title)\n",
    "\n",
    "import ipywidgets as widgets\n",
    "drop = widgets.Dropdown(options = options)\n",
    "drop"
   ]
  },
  {
   "cell_type": "markdown",
   "id": "25839151",
   "metadata": {},
   "source": [
    "Show recommendations for a given movie"
   ]
  },
  {
   "cell_type": "code",
   "execution_count": 33,
   "id": "16e5ecf3",
   "metadata": {},
   "outputs": [
    {
     "name": "stdout",
     "output_type": "stream",
     "text": [
      "Recommendations for:  Batman (1989)\n",
      "1 . Jurassic Park (1993)\n",
      "2 . Terminator 2: Judgment Day (1991)\n",
      "3 . Star Wars: Episode IV - A New Hope (1977)\n",
      "4 . Star Wars: Episode VI - Return of the Jedi (1983)\n",
      "5 . Indiana Jones and the Temple of Doom (1984)\n",
      "6 . True Lies (1994)\n",
      "7 . Terminator, The (1984)\n",
      "8 . Independence Day (a.k.a. ID4) (1996)\n",
      "9 . Batman Forever (1995)\n",
      "10 . Indiana Jones and the Last Crusade (1989)\n"
     ]
    }
   ],
   "source": [
    "movie_id = drop.value\n",
    "test = pivot_table.iloc[movie_id, :].values.reshape(1, -1)\n",
    "\n",
    "distances, indices = model_knn.kneighbors(test, n_neighbors = 10 + 1)\n",
    "indices = indices.squeeze()[1:]\n",
    "\n",
    "print('Recommendations for: ', id_to_title[movie_id])\n",
    "\n",
    "for i, index in enumerate(indices):\n",
    "    print(i+1, '.', id_to_title[index])\n"
   ]
  },
  {
   "cell_type": "markdown",
   "id": "3310e10b",
   "metadata": {},
   "source": [
    "This completes movie recommendation system using machine learning."
   ]
  }
 ],
 "metadata": {
  "kernelspec": {
   "display_name": "Python 3",
   "language": "python",
   "name": "python3"
  },
  "language_info": {
   "codemirror_mode": {
    "name": "ipython",
    "version": 3
   },
   "file_extension": ".py",
   "mimetype": "text/x-python",
   "name": "python",
   "nbconvert_exporter": "python",
   "pygments_lexer": "ipython3",
   "version": "3.8.8"
  }
 },
 "nbformat": 4,
 "nbformat_minor": 5
}
